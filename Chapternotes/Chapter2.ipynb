{
 "cells": [
  {
   "cell_type": "markdown",
   "id": "d69ea3ab-2953-4ba5-b427-5587e6cb2dfb",
   "metadata": {},
   "source": [
    "# Working with Text Data\n",
    "* Before we can implement and train LLMs in the upcoming chapters, we need to prepare the training dataset.\n",
    "* This involves splitting text into individual word and subword tokens, which can then be encoded into vector representations for the LLM.\n",
    "* Lastly, we'll implement a sampling and data loading strategy to produce the input-output pairs necessary for training LLMs in subsequent chapters."
   ]
  },
  {
   "cell_type": "markdown",
   "id": "d9a45c0d-bd4d-42fa-ba8c-2b545061ee31",
   "metadata": {},
   "source": [
    "## Understanding word embeddings\n"
   ]
  }
 ],
 "metadata": {
  "kernelspec": {
   "display_name": "Python 3 (ipykernel)",
   "language": "python",
   "name": "python3"
  },
  "language_info": {
   "codemirror_mode": {
    "name": "ipython",
    "version": 3
   },
   "file_extension": ".py",
   "mimetype": "text/x-python",
   "name": "python",
   "nbconvert_exporter": "python",
   "pygments_lexer": "ipython3",
   "version": "3.11.0"
  }
 },
 "nbformat": 4,
 "nbformat_minor": 5
}
